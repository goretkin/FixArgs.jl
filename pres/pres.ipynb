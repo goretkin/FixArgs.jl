{
 "cells": [
  {
   "cell_type": "code",
   "execution_count": null,
   "metadata": {
    "slideshow": {
     "slide_type": "skip"
    }
   },
   "outputs": [],
   "source": [
    "using Markdown\n",
    "using InteractiveUtils\n",
    "using BenchmarkTools"
   ]
  },
  {
   "cell_type": "markdown",
   "metadata": {
    "slideshow": {
     "slide_type": "slide"
    }
   },
   "source": [
    "# Reusing meaningful names meaningfully, good spelling, and structural lambda expressions.\n",
    "## Gustavo Nunes Goretkin\n",
    "### JuliaCon 2021\n",
    "- discuss functions used as names\n",
    "- demonstrate how multiple dispatch and generic functions enable good \"spellings\" and symbolic computation\n",
    "- experimental package (FixArgs.jl) to showcase this pattern\n",
    "- focus on the idea rather than the specific implementation, syntax, etc."
   ]
  },
  {
   "cell_type": "markdown",
   "metadata": {
    "slideshow": {
     "slide_type": "slide"
    }
   },
   "source": [
    "To concatenate two `AbstractVector`s, use `vcat`:"
   ]
  },
  {
   "cell_type": "code",
   "execution_count": null,
   "metadata": {
    "slideshow": {
     "slide_type": "fragment"
    }
   },
   "outputs": [],
   "source": [
    "vcat(1:5, 1:5)"
   ]
  },
  {
   "cell_type": "markdown",
   "metadata": {
    "slideshow": {
     "slide_type": "subslide"
    }
   },
   "source": [
    "Suppose we have a `Vector` of `Vector`s, and we want to concatenate all of the inner `Vector`s into one `Vector`."
   ]
  },
  {
   "cell_type": "code",
   "execution_count": null,
   "metadata": {
    "slideshow": {
     "slide_type": "fragment"
    }
   },
   "outputs": [],
   "source": [
    "vs = [collect(1:10) for _ = 1:2000]; # `Vector` of `<:AbstractVector`s,  really."
   ]
  },
  {
   "cell_type": "markdown",
   "metadata": {
    "slideshow": {
     "slide_type": "fragment"
    }
   },
   "source": [
    "Apply binary operation over a sequence using `reduce`:"
   ]
  },
  {
   "cell_type": "code",
   "execution_count": null,
   "metadata": {
    "slideshow": {
     "slide_type": "fragment"
    }
   },
   "outputs": [],
   "source": [
    "reduce(vcat, vs) |> string"
   ]
  },
  {
   "cell_type": "markdown",
   "metadata": {
    "slideshow": {
     "slide_type": "subslide"
    }
   },
   "source": [
    "Now let us do essentially the same computation, but instead of directly using `vcat`, we define a function that just calls `vcat`:\n",
    "\n",
    "```julia\n",
    "reduce((_1, _2) -> vcat(_1, _2), vs)\n",
    "```\n",
    "\n",
    "And let's time the two."
   ]
  },
  {
   "cell_type": "code",
   "execution_count": null,
   "metadata": {
    "slideshow": {
     "slide_type": "subslide"
    }
   },
   "outputs": [],
   "source": [
    "@benchmark reduce(vcat, vs)"
   ]
  },
  {
   "cell_type": "code",
   "execution_count": null,
   "metadata": {
    "slideshow": {
     "slide_type": "fragment"
    }
   },
   "outputs": [],
   "source": [
    "@benchmark reduce((_1, _2) -> vcat(_1, _2), vs)"
   ]
  },
  {
   "cell_type": "markdown",
   "metadata": {
    "slideshow": {
     "slide_type": "subslide"
    }
   },
   "source": [
    "It is ~500× slower in this case.\n",
    "\n",
    "Why? It is not because anonymous functions are slow (they aren't). Totally different code is running each case. (e.g. allocate output all at once)"
   ]
  },
  {
   "cell_type": "code",
   "execution_count": null,
   "metadata": {
    "slideshow": {
     "slide_type": "fragment"
    }
   },
   "outputs": [],
   "source": [
    "methods(reduce)"
   ]
  },
  {
   "cell_type": "markdown",
   "metadata": {
    "slideshow": {
     "slide_type": "skip"
    }
   },
   "source": [
    "## Spelling\n",
    "There is a reason that \"spelling bees\" were invented for English-language writing system."
   ]
  },
  {
   "cell_type": "markdown",
   "metadata": {
    "slideshow": {
     "slide_type": "slide"
    }
   },
   "source": [
    "Two key features:\n",
    "- multiple dispatch\n",
    "- the function is encoded in the type domain (i.e. each function is its own type)\n",
    "\n",
    "enables defining special case for `reduce(vcat, ...)`.\n",
    "\n",
    "Otherwise, would need name e.g. `reduce_vcat(...)`, or perhaps `flatten(...)`.\n",
    "\n",
    "Personally, the first spelling is better. It combines existing and meaningful names instead of introducing a new ad-hoc name."
   ]
  },
  {
   "cell_type": "markdown",
   "metadata": {
    "slideshow": {
     "slide_type": "fragment"
    }
   },
   "source": [
    "Note that running `reduce(vcat, ...)` might not even call `vcat` (as a function). `vcat` is used as a _name_."
   ]
  },
  {
   "cell_type": "markdown",
   "metadata": {
    "slideshow": {
     "slide_type": "fragment"
    }
   },
   "source": [
    "More so than in other ecosystems, the Julia community aims to determine a generic meaning for a given function name. This is difficult and fundamental design work. It enables generic programming. It is good to reuse these names!"
   ]
  },
  {
   "cell_type": "markdown",
   "metadata": {
    "slideshow": {
     "slide_type": "slide"
    }
   },
   "source": [
    "There are multiple converging motivations for the idea in this talk:\n",
    "\n",
    "* Get extra value from careful function name / meaning pairs\n",
    "\n",
    "* Generalize `Base.Fix1`/`Base.Fix2`\n",
    "\n",
    "* Symbolic Computation / Lazy Computation\n",
    "\n",
    "* Explore a combination of structural and of nominal types"
   ]
  },
  {
   "cell_type": "markdown",
   "metadata": {
    "slideshow": {
     "slide_type": "subslide"
    }
   },
   "source": [
    "## Demo of `Base.Fix2`\n",
    "`==` is a two-argument function. `==(a, b)` is identical to `a == b`"
   ]
  },
  {
   "cell_type": "code",
   "execution_count": null,
   "metadata": {
    "slideshow": {
     "slide_type": "fragment"
    }
   },
   "outputs": [],
   "source": [
    "f1 = ==(50)"
   ]
  },
  {
   "cell_type": "code",
   "execution_count": null,
   "metadata": {
    "slideshow": {
     "slide_type": "fragment"
    }
   },
   "outputs": [],
   "source": [
    "f2 = x -> x == 50"
   ]
  },
  {
   "cell_type": "markdown",
   "metadata": {
    "slideshow": {
     "slide_type": "fragment"
    }
   },
   "source": [
    "`f1` and `f2` compute the same function. Some might say that they are different names for the same function.\n",
    "\n",
    "\n",
    "\n",
    "And in this case, names matter!"
   ]
  },
  {
   "cell_type": "code",
   "execution_count": null,
   "metadata": {
    "slideshow": {
     "slide_type": "fragment"
    }
   },
   "outputs": [],
   "source": [
    "findfirst(f1, -1000:1000) # O(1)"
   ]
  },
  {
   "cell_type": "code",
   "execution_count": null,
   "metadata": {
    "slideshow": {
     "slide_type": "fragment"
    }
   },
   "outputs": [],
   "source": [
    "findfirst(f2, -1000:1000) # O(length(range))"
   ]
  },
  {
   "cell_type": "code",
   "execution_count": null,
   "metadata": {
    "slideshow": {
     "slide_type": "subslide"
    }
   },
   "outputs": [],
   "source": [
    "@which findfirst(f1, -1000:1000)"
   ]
  },
  {
   "cell_type": "markdown",
   "metadata": {
    "slideshow": {
     "slide_type": "fragment"
    }
   },
   "source": [
    "```julia\n",
    "findfirst(p::Union{Fix2{typeof(isequal),T},Fix2{typeof(==),T}}, r::AbstractUnitRange) where {T<:Integer} =\n",
    "    first(r) <= p.x <= last(r) ? 1+Int(p.x - first(r)) : nothing\n",
    "```"
   ]
  },
  {
   "cell_type": "markdown",
   "metadata": {
    "slideshow": {
     "slide_type": "fragment"
    }
   },
   "source": [
    "This is why I love Julia. Imagine a plotting library that supports unevenly-spaced axis ticks.\n",
    "\n",
    "Code written in terms of `findfirst` can support unevenly-spaced ticks, and still be (runtime) efficient when using evenly-spaced ticks.\n",
    "\n",
    "The same code can handle a general case, without affecting performance in the special case!"
   ]
  },
  {
   "cell_type": "markdown",
   "metadata": {
    "slideshow": {
     "slide_type": "slide"
    }
   },
   "source": [
    "The types `Fix1`/`Fix2` fix one argument of a two-argument function.\n",
    "\n",
    "\n",
    "`FixArgs.jl` provides a generalization of `Fix1` and `Fix2` in a few ways:\n",
    "1. A function of any positional arity can be used, and any number of its arguments can be bound, allowing the remaining arguments to be provided later.\n",
    "2. A function can have its keyword arguments bound.\n",
    "3. The function `x -> f(x, b)` is represented with types:\n",
    "   - a [`Lambda`](https://goretkin.github.io/FixArgs.jl/dev/#FixArgs.Lambda) to represent function (`args -> body`)\n",
    "   - a [`Call`](https://goretkin.github.io/FixArgs.jl/dev/#FixArgs.Call) to represent the function *call* (`f(...)`) in the body\n",
    "   - a [`ArgPos`](https://goretkin.github.io/FixArgs.jl/dev/#FixArgs.ArgPos) to represent the `x` in the body of the lambda function"
   ]
  },
  {
   "cell_type": "markdown",
   "metadata": {
    "slideshow": {
     "slide_type": "subslide"
    }
   },
   "source": [
    "```julia\n",
    "\"\"\"\n",
    "    isapprox(x; kwargs...) / ≈(x; kwargs...)\n",
    "Create a function that compares its argument to `x` using `≈`, i.e. a function equivalent to `y -> y ≈ x`.\n",
    "The keyword arguments supported here are the same as those in the 2-argument `isapprox`.\n",
    "\"\"\"\n",
    "isapprox(y; kwargs...) = x -> isapprox(x, y; kwargs...)\n",
    "```"
   ]
  },
  {
   "cell_type": "markdown",
   "metadata": {
    "slideshow": {
     "slide_type": "fragment"
    }
   },
   "source": [
    "The second generalization allows partial application with keyword arguments\n",
    "\n",
    "All other docstrings in `Base` with \"Create a function\" use `Base.Fix2`, but here an anonymous function was used."
   ]
  },
  {
   "cell_type": "markdown",
   "metadata": {
    "slideshow": {
     "slide_type": "subslide"
    }
   },
   "source": [
    "The third generalization is powerful, because it's effectively the [lambda calculus](https://en.wikipedia.org/wiki/Lambda_calculus).\n",
    "\n",
    "What good is this power?"
   ]
  },
  {
   "cell_type": "markdown",
   "metadata": {
    "slideshow": {
     "slide_type": "fragment"
    }
   },
   "source": [
    "Would it ever be useful to fix all of the arguments of a function?\n",
    "\n",
    "Consider the `/` (division) function.\n",
    "\n",
    "If you fix its two arguments, that looks a lot like `Rational`."
   ]
  },
  {
   "cell_type": "code",
   "execution_count": null,
   "metadata": {
    "slideshow": {
     "slide_type": "fragment"
    }
   },
   "outputs": [],
   "source": [
    "using FixArgs\n",
    "half = @xquote 1 / 2"
   ]
  },
  {
   "cell_type": "markdown",
   "metadata": {
    "slideshow": {
     "slide_type": "fragment"
    }
   },
   "source": [
    "A macro helps create `Lambda` / `Call` / `ArgPos`, etc. objects"
   ]
  },
  {
   "cell_type": "code",
   "execution_count": null,
   "metadata": {
    "slideshow": {
     "slide_type": "fragment"
    }
   },
   "outputs": [],
   "source": [
    "half * half"
   ]
  },
  {
   "cell_type": "markdown",
   "metadata": {
    "slideshow": {
     "slide_type": "subslide"
    }
   },
   "source": [
    "Another macro helps define the types"
   ]
  },
  {
   "cell_type": "code",
   "execution_count": null,
   "metadata": {
    "slideshow": {
     "slide_type": "fragment"
    }
   },
   "outputs": [],
   "source": [
    "function Base.:*(a::(@xquoteT ::S / ::S), b::(@xquoteT ::S / ::S)) where S\n",
    "    (n1, d1) = something.(Tuple(a.args))\n",
    "    (n2, d2) = something.(Tuple(b.args))\n",
    "    @xquote $(n1 * n2) / $(d1 * d2)\n",
    "end"
   ]
  },
  {
   "cell_type": "code",
   "execution_count": null,
   "metadata": {
    "slideshow": {
     "slide_type": "fragment"
    }
   },
   "outputs": [],
   "source": [
    "half * half"
   ]
  },
  {
   "cell_type": "markdown",
   "metadata": {
    "slideshow": {
     "slide_type": "fragment"
    }
   },
   "source": [
    "Where does the connection between `Rational` and `/` happen in `Base`? [Here](https://github.com/JuliaLang/julia/blob/51f57406038df9f438edf911c8d1b59c9c1af4b1/base/rational.jl#L112).\n",
    "\n",
    "    \n",
    "```julia\n",
    "AbstractFloat(x::Rational) = (float(x.num)/float(x.den))::AbstractFloat\n",
    "```"
   ]
  },
  {
   "cell_type": "code",
   "execution_count": null,
   "metadata": {
    "slideshow": {
     "slide_type": "fragment"
    }
   },
   "outputs": [],
   "source": [
    "xeval(half)"
   ]
  },
  {
   "cell_type": "markdown",
   "metadata": {
    "slideshow": {
     "slide_type": "subslide"
    }
   },
   "source": [
    "## memory and code generation comparison"
   ]
  },
  {
   "cell_type": "code",
   "execution_count": null,
   "metadata": {
    "slideshow": {
     "slide_type": "fragment"
    }
   },
   "outputs": [],
   "source": [
    "sizeof(half)"
   ]
  },
  {
   "cell_type": "code",
   "execution_count": null,
   "metadata": {
    "slideshow": {
     "slide_type": "fragment"
    }
   },
   "outputs": [],
   "source": [
    "sizeof(1 // 2)"
   ]
  },
  {
   "cell_type": "code",
   "execution_count": null,
   "metadata": {
    "slideshow": {
     "slide_type": "fragment"
    }
   },
   "outputs": [],
   "source": [
    "reinterpret(Int, [half])"
   ]
  },
  {
   "cell_type": "code",
   "execution_count": null,
   "metadata": {
    "slideshow": {
     "slide_type": "subslide"
    }
   },
   "outputs": [],
   "source": [
    "@code_native xeval(half)"
   ]
  },
  {
   "cell_type": "code",
   "execution_count": null,
   "metadata": {
    "slideshow": {
     "slide_type": "fragment"
    }
   },
   "outputs": [],
   "source": [
    "@code_native float(1//2)"
   ]
  },
  {
   "cell_type": "markdown",
   "metadata": {
    "slideshow": {
     "slide_type": "subslide"
    }
   },
   "source": [
    "This is not a drop-in replacement for `Rational`, however, because"
   ]
  },
  {
   "cell_type": "code",
   "execution_count": null,
   "metadata": {
    "slideshow": {
     "slide_type": "fragment"
    }
   },
   "outputs": [],
   "source": [
    "1//2 isa Number"
   ]
  },
  {
   "cell_type": "code",
   "execution_count": null,
   "metadata": {
    "slideshow": {
     "slide_type": "fragment"
    }
   },
   "outputs": [],
   "source": [
    "(@xquote 1 / 2) isa Number"
   ]
  },
  {
   "cell_type": "markdown",
   "metadata": {
    "slideshow": {
     "slide_type": "subslide"
    }
   },
   "source": [
    "## Different than `Expr`\n",
    "`/` in `:(/(x, y))` is not `Base.:/`, but just `:/`"
   ]
  },
  {
   "cell_type": "code",
   "execution_count": null,
   "metadata": {
    "slideshow": {
     "slide_type": "fragment"
    }
   },
   "outputs": [],
   "source": [
    "dump(:(x / y))"
   ]
  },
  {
   "cell_type": "code",
   "execution_count": null,
   "metadata": {
    "slideshow": {
     "slide_type": "fragment"
    }
   },
   "outputs": [],
   "source": [
    "let x = 1, y =2\n",
    "    @xquote x / y\n",
    "end"
   ]
  },
  {
   "cell_type": "markdown",
   "metadata": {
    "slideshow": {
     "slide_type": "subslide"
    }
   },
   "source": [
    "## Why?\n",
    "Using this instead of `Base.Rational` seems pretty silly and confusing. Possible benefits:\n",
    "\n",
    "* Some users want a \"rational\" type where the numerator and the denominator are not constrained to be the same type.\n",
    "\n",
    "* a fixed-point number is one of these rational types where the denominator is \"static\" (a singleton type such that the numerical value is encoded in the type domain). Check the documentation for `FixArgs.jl` examples!"
   ]
  },
  {
   "cell_type": "code",
   "execution_count": null,
   "metadata": {
    "slideshow": {
     "slide_type": "fragment"
    }
   },
   "outputs": [],
   "source": [
    "MyQ0f7(x) = (@xquote $(Int8(x)) / 128::::S) # mark an argument as \"static\"\n",
    "MyQ0f7(3)"
   ]
  },
  {
   "cell_type": "markdown",
   "metadata": {
    "slideshow": {
     "slide_type": "fragment"
    }
   },
   "source": [
    "### A combination of structural and nominal typing\n",
    "Avoid the requirement to choose names like `Rational`, `num`, `den`.\n",
    "The arguments can be distinguished by the role they play with respect to the function. Only the function needs a name."
   ]
  },
  {
   "cell_type": "markdown",
   "metadata": {
    "slideshow": {
     "slide_type": "slide"
    }
   },
   "source": [
    "## Existing patterns"
   ]
  },
  {
   "cell_type": "markdown",
   "metadata": {
    "slideshow": {
     "slide_type": "subslide"
    }
   },
   "source": [
    "`Base.Generator` could be a lazy representation of `map(f, itr)`"
   ]
  },
  {
   "cell_type": "markdown",
   "metadata": {
    "slideshow": {
     "slide_type": "subslide"
    }
   },
   "source": [
    "```julia\n",
    "Base.Iterators.Filter(flt, itr)\n",
    "```\n",
    "\n",
    "could be replaced with\n",
    "\n",
    "```julia\n",
    "@xquote filter(flt, itr)\n",
    "```"
   ]
  },
  {
   "cell_type": "markdown",
   "metadata": {
    "slideshow": {
     "slide_type": "fragment"
    }
   },
   "source": [
    "The type `Base.Iterators.Filter` could be an alias for\n",
    "\n",
    "```julia\n",
    "(@xquoteT filter(::F, ::I)) where {F, I}\n",
    "```\n",
    "to keep the existing symbolic \"rules\" such as [this one](https://github.com/JuliaLang/julia/blob/ef14131db321f8f5a815dd05a5385b5b27d87d8f/base/iterators.jl#L463):\n",
    "\n",
    "```julia\n",
    "reverse(f::Filter) = Filter(f.flt, reverse(f.itr))\n",
    "```"
   ]
  },
  {
   "cell_type": "markdown",
   "metadata": {
    "slideshow": {
     "slide_type": "fragment"
    }
   },
   "source": [
    "[`Base.Iterators.Flatten(iterator_of_iterators)`](https://github.com/JuliaLang/julia/blob/ef14131db321f8f5a815dd05a5385b5b27d87d8f/base/iterators.jl#L1038-L1040) can be represented as `@xquote reduce(vcat, iterator_of_iterators)`"
   ]
  },
  {
   "cell_type": "markdown",
   "metadata": {
    "slideshow": {
     "slide_type": "subslide"
    }
   },
   "source": [
    "### `Base.literal_pow` "
   ]
  },
  {
   "cell_type": "code",
   "execution_count": null,
   "metadata": {
    "slideshow": {
     "slide_type": "fragment"
    }
   },
   "outputs": [],
   "source": [
    "Meta.@lower x^2"
   ]
  },
  {
   "cell_type": "markdown",
   "metadata": {
    "slideshow": {
     "slide_type": "fragment"
    }
   },
   "source": [
    "Could instead lower to\n",
    "```\n",
    "%1 = @xquote x^(2::::S) # i.e. something roughly like `Call(^, x, Val(2))`\n",
    "%2 = xeval(%1)\n",
    "```"
   ]
  },
  {
   "cell_type": "markdown",
   "metadata": {
    "slideshow": {
     "slide_type": "subslide"
    }
   },
   "source": [
    "### Broadcasting\n",
    "[Call](https://github.com/JuliaLang/julia/blob/d06c2a97be3f643d403c4069955e135823ff9fd0/base/broadcast.jl#L152-L173)\n",
    "\n",
    "```julia\n",
    "struct Broadcasted{Style<:Union{Nothing,BroadcastStyle}, Axes, F, Args<:Tuple} <: Base.AbstractBroadcasted\n",
    "    f::F\n",
    "    args::Args\n",
    "    axes::Axes\n",
    "end\n",
    "```\n",
    "\n",
    "(extra information `Style` and `axes`)\n",
    "\n",
    "[xeval](https://github.com/JuliaLang/julia/blob/1910a7685a86d44041a98ff874f92e480fc44632/base/broadcast.jl#L904)\n",
    "\n",
    "```julia\n",
    "@inline materialize(bc::Broadcasted) = copy(instantiate(bc))\n",
    "# [... `copyto!` methods ...]\n",
    "```"
   ]
  },
  {
   "cell_type": "markdown",
   "metadata": {
    "slideshow": {
     "slide_type": "subslide"
    }
   },
   "source": [
    "[LazyArrays.jl](https://github.com/JuliaArrays/LazyArrays.jl)\n",
    "\n",
    "[Call](https://github.com/JuliaArrays/LazyArrays.jl/blob/6b5cee2e8ed355a8e7590c3ae860faed4e816e19/src/lazyapplying.jl#L184-L187)\n",
    "\n",
    "```julia\n",
    "struct ApplyArray{T, N, F, Args<:Tuple} <: LazyArray{T,N}\n",
    "    f::F\n",
    "    args::Args\n",
    "end\n",
    "\n",
    "# [...]\n",
    "\n",
    "const Vcat{T,N,I<:Tuple} = ApplyArray{T,N,typeof(vcat),I}\n",
    "\n",
    "```\n",
    "\n",
    "[xeval](https://github.com/JuliaArrays/LazyArrays.jl/blob/dff5924cd8b52c62a34cce16372381bb8a9e35cb/src/lazyconcat.jl#L20-L27)\n",
    "```julia\n",
    "function instantiate(A::Applied{DefaultApplyStyle,typeof(vcat)})\n",
    "    isempty(A.args) && return A\n",
    "    m = size(A.args[1],2)\n",
    "    for k=2:length(A.args)\n",
    "        size(A.args[k],2) == m || throw(ArgumentError(\"number of columns of each array must match (got $(map(x->size(x,2), A)))\"))\n",
    "    end\n",
    "    Applied{DefaultApplyStyle}(A.f,map(instantiate,A.args))\n",
    "end\n",
    "```\n"
   ]
  },
  {
   "cell_type": "markdown",
   "metadata": {
    "slideshow": {
     "slide_type": "skip"
    }
   },
   "source": [
    "[LazyStacks.jl](https://github.com/mcabbott/LazyStack.jl)\n",
    "\n",
    "[Call](https://github.com/mcabbott/LazyStack.jl/blob/a02740adae65cd27acc0257a61a482fdebf2e2eb/src/LazyStack.jl#L82-L84)\n",
    "```julia\n",
    "struct Stacked{T,N,AT} <: AbstractArray{T,N}\n",
    "    slices::AT\n",
    "end\n",
    "```\n",
    "\n",
    "\n",
    "[xeval](https://github.com/mcabbott/LazyStack.jl/blob/a02740adae65cd27acc0257a61a482fdebf2e2eb/src/LazyStack.jl#L111)\n",
    "```julia\n",
    "Base.collect(x::Stacked{T,2,<:AbstractArray{<:AbstractArray{T,1}}}) where {T} = reduce(hcat, x.slices)\n",
    "```"
   ]
  },
  {
   "cell_type": "markdown",
   "metadata": {
    "slideshow": {
     "slide_type": "subslide"
    }
   },
   "source": [
    "[LazySets.jl](https://github.com/JuliaReach/LazySets.jl)\n",
    "\n",
    "[Call](https://github.com/JuliaReach/LazySets.jl/blob/4e3dc1668a0265f748fef4a5ced93c97337c2623/src/LazyOperations/Intersection.jl#L98-L108)\n",
    "\n",
    "```julia\n",
    "struct Intersection{N, S1<:LazySet{N}, S2<:LazySet{N}} <: LazySet{N}\n",
    "    X::S1\n",
    "    Y::S2\n",
    "    cache::IntersectionCache\n",
    "    # [...]\n",
    "end\n",
    "```\n",
    "\n",
    "[xeval](https://github.com/JuliaReach/LazySets.jl/blob/4e3dc1668a0265f748fef4a5ced93c97337c2623/src/LazyOperations/Intersection.jl#L723-L725)\n",
    "```julia\n",
    "function concretize(cap::Intersection)\n",
    "    return intersection(concretize(cap.X), concretize(cap.Y))\n",
    "end\n",
    "```"
   ]
  },
  {
   "cell_type": "markdown",
   "metadata": {
    "slideshow": {
     "slide_type": "skip"
    }
   },
   "source": [
    "### Struct-of-Arrays and Array-of-Structs"
   ]
  },
  {
   "cell_type": "code",
   "execution_count": null,
   "metadata": {
    "slideshow": {
     "slide_type": "skip"
    }
   },
   "outputs": [],
   "source": [
    "soa = (a=[1,2,3], b=[10, 20, 30])\n",
    "aos = [(a=1, b=10), (a=2, b=20), (a=3, b=30)]\n",
    "\n",
    "aos_eager = map(NamedTuple{(:a, :b)} ∘ tuple, soa.a, soa.b)"
   ]
  },
  {
   "cell_type": "code",
   "execution_count": null,
   "metadata": {
    "slideshow": {
     "slide_type": "skip"
    }
   },
   "outputs": [],
   "source": [
    "soa_eager = NamedTuple{(:a, :b)}(tuple(getindex.(aos, :a), getindex.(aos, :b)))"
   ]
  },
  {
   "cell_type": "code",
   "execution_count": null,
   "metadata": {
    "slideshow": {
     "slide_type": "skip"
    }
   },
   "outputs": [],
   "source": [
    "@xquote map(NamedTuple{(:a, :b)} ∘ tuple, soa.a, soa.b)"
   ]
  },
  {
   "cell_type": "markdown",
   "metadata": {
    "slideshow": {
     "slide_type": "subslide"
    }
   },
   "source": [
    "### Structural vs. Nominal"
   ]
  },
  {
   "cell_type": "code",
   "execution_count": null,
   "metadata": {
    "slideshow": {
     "slide_type": "fragment"
    }
   },
   "outputs": [],
   "source": [
    "@xquote x -> x # `identity` could be an alias for this"
   ]
  },
  {
   "cell_type": "code",
   "execution_count": null,
   "metadata": {
    "slideshow": {
     "slide_type": "fragment"
    }
   },
   "outputs": [],
   "source": [
    "x -> x"
   ]
  },
  {
   "cell_type": "code",
   "execution_count": null,
   "metadata": {
    "slideshow": {
     "slide_type": "fragment"
    }
   },
   "outputs": [],
   "source": [
    "x -> x # gets a different name, even though structurally identical."
   ]
  },
  {
   "cell_type": "markdown",
   "metadata": {
    "slideshow": {
     "slide_type": "skip"
    }
   },
   "source": [
    "September 2020:\n",
    "The composition operator `∘` now returns a [`Base.ComposedFunction`](https://github.com/jw3126/julia/blob/37908d66492f3cf95759f8e0e7e3d2bd6d038c0c/base/operators.jl#L909-L914) instead of an anonymous function ([#37517]).\n",
    "\n",
    "```julia\n",
    "struct ComposedFunction{O,I} <: Function\n",
    "    outer::O\n",
    "    inner::I\n",
    "end\n",
    "```"
   ]
  },
  {
   "cell_type": "markdown",
   "metadata": {
    "slideshow": {
     "slide_type": "subslide"
    }
   },
   "source": [
    "## Different niche from Computer Algebra System\n",
    "\n",
    "[SymbolicUtils.Term](https://github.com/JuliaSymbolics/SymbolicUtils.jl/blob/c3081cdbf59b8e07ed3a757d8e9eb8bdbc9cad6e/src/types.jl#L323-L328) intentionally does not dispatch on function or argument types:\n",
    "\n",
    "```julia\n",
    "struct Term{T, M} <: Symbolic{T}\n",
    "    f::Any\n",
    "    arguments::Any\n",
    "    metadata::M\n",
    "    hash::Ref{UInt} # hash cache\n",
    "end\n",
    "```\n"
   ]
  },
  {
   "cell_type": "markdown",
   "metadata": {
    "slideshow": {
     "slide_type": "slide"
    }
   },
   "source": [
    "## Taking the idea too far?"
   ]
  },
  {
   "cell_type": "code",
   "execution_count": null,
   "metadata": {
    "slideshow": {
     "slide_type": "skip"
    }
   },
   "outputs": [],
   "source": [
    "typeof(im)"
   ]
  },
  {
   "cell_type": "markdown",
   "metadata": {
    "slideshow": {
     "slide_type": "skip"
    }
   },
   "source": [
    "`im` is defined in terms of `Complex`. Going the other way"
   ]
  },
  {
   "cell_type": "code",
   "execution_count": null,
   "metadata": {
    "slideshow": {
     "slide_type": "fragment"
    }
   },
   "outputs": [],
   "source": [
    "𝗶 = @xquote sqrt((-1)::::S)"
   ]
  },
  {
   "cell_type": "code",
   "execution_count": null,
   "metadata": {
    "slideshow": {
     "slide_type": "fragment"
    }
   },
   "outputs": [],
   "source": [
    "xeval(𝗶)"
   ]
  },
  {
   "cell_type": "code",
   "execution_count": null,
   "metadata": {
    "slideshow": {
     "slide_type": "fragment"
    }
   },
   "outputs": [],
   "source": [
    "c = @xquote 1 + 2*𝗶"
   ]
  },
  {
   "cell_type": "code",
   "execution_count": null,
   "metadata": {
    "slideshow": {
     "slide_type": "fragment"
    }
   },
   "outputs": [],
   "source": [
    "reinterpret(Int, [c])"
   ]
  },
  {
   "cell_type": "markdown",
   "metadata": {
    "slideshow": {
     "slide_type": "fragment"
    }
   },
   "source": [
    "Note that\n",
    "- `@xquote 1 + 2*𝗶`\n",
    "- `@xquote 2*𝗶 + 1`\n",
    "- `@xquote 𝗶*2 + 1`\n",
    "are all different types."
   ]
  },
  {
   "cell_type": "markdown",
   "metadata": {
    "slideshow": {
     "slide_type": "subslide"
    }
   },
   "source": [
    "## Downsides\n",
    "- code reuse increases coupling\n",
    "- burden on the compiler\n",
    "- huge types\n",
    "- method ambiguities"
   ]
  },
  {
   "cell_type": "markdown",
   "metadata": {
    "slideshow": {
     "slide_type": "fragment"
    }
   },
   "source": [
    "# Thanks!"
   ]
  }
 ],
 "metadata": {
  "celltoolbar": "Slideshow",
  "kernelspec": {
   "display_name": "Julia 1.6.1",
   "language": "julia",
   "name": "julia-1.6"
  },
  "language_info": {
   "file_extension": ".jl",
   "mimetype": "application/julia",
   "name": "julia",
   "version": "1.6.1"
  },
  "rise": {
   "enable_chalkboard": false,
   "scroll": true
  }
 },
 "nbformat": 4,
 "nbformat_minor": 2
}
